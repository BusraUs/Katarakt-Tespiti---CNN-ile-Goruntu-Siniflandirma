{
 "cells": [
  {
   "cell_type": "code",
   "execution_count": 23,
   "metadata": {},
   "outputs": [
    {
     "ename": "ModuleNotFoundError",
     "evalue": "No module named 'tensorflow'",
     "output_type": "error",
     "traceback": [
      "\u001b[1;31m---------------------------------------------------------------------------\u001b[0m",
      "\u001b[1;31mModuleNotFoundError\u001b[0m                       Traceback (most recent call last)",
      "Cell \u001b[1;32mIn[23], line 6\u001b[0m\n\u001b[0;32m      4\u001b[0m \u001b[38;5;28;01mfrom\u001b[39;00m \u001b[38;5;21;01mPIL\u001b[39;00m \u001b[38;5;28;01mimport\u001b[39;00m Image\n\u001b[0;32m      5\u001b[0m \u001b[38;5;28;01mfrom\u001b[39;00m \u001b[38;5;21;01mmatplotlib\u001b[39;00m \u001b[38;5;28;01mimport\u001b[39;00m pyplot \u001b[38;5;28;01mas\u001b[39;00m plt\n\u001b[1;32m----> 6\u001b[0m \u001b[38;5;28;01mfrom\u001b[39;00m \u001b[38;5;21;01mtensorflow\u001b[39;00m\u001b[38;5;21;01m.\u001b[39;00m\u001b[38;5;21;01mkeras\u001b[39;00m\u001b[38;5;21;01m.\u001b[39;00m\u001b[38;5;21;01mpreprocessing\u001b[39;00m\u001b[38;5;21;01m.\u001b[39;00m\u001b[38;5;21;01mimage\u001b[39;00m \u001b[38;5;28;01mimport\u001b[39;00m ImageDataGenerator\n\u001b[0;32m      7\u001b[0m \u001b[38;5;28;01mfrom\u001b[39;00m \u001b[38;5;21;01mtensorflow\u001b[39;00m\u001b[38;5;21;01m.\u001b[39;00m\u001b[38;5;21;01mkeras\u001b[39;00m\u001b[38;5;21;01m.\u001b[39;00m\u001b[38;5;21;01mmodels\u001b[39;00m \u001b[38;5;28;01mimport\u001b[39;00m Sequential\n\u001b[0;32m      8\u001b[0m \u001b[38;5;28;01mfrom\u001b[39;00m \u001b[38;5;21;01mtensorflow\u001b[39;00m\u001b[38;5;21;01m.\u001b[39;00m\u001b[38;5;21;01mkeras\u001b[39;00m\u001b[38;5;21;01m.\u001b[39;00m\u001b[38;5;21;01mlayers\u001b[39;00m \u001b[38;5;28;01mimport\u001b[39;00m Conv2D, MaxPooling2D, Flatten, Dense\n",
      "\u001b[1;31mModuleNotFoundError\u001b[0m: No module named 'tensorflow'"
     ]
    }
   ],
   "source": [
    "import numpy as np \n",
    "import pandas as pd\n",
    "import os\n",
    "from PIL import Image\n",
    "from matplotlib import pyplot as plt\n",
    "from tensorflow.keras.preprocessing.image import ImageDataGenerator\n",
    "from tensorflow.keras.models import Sequential\n",
    "from tensorflow.keras.layers import Conv2D, MaxPooling2D, Flatten, Dense\n",
    "from tensorflow.keras.optimizers import RMSprop"
   ]
  },
  {
   "cell_type": "code",
   "execution_count": 12,
   "metadata": {},
   "outputs": [],
   "source": [
    "image_paths = {\n",
    "    \"train_cataract\" : [],\n",
    "    \"train_normal\" : [],\n",
    "    \"test_cataract\" : [],\n",
    "    \"test_normal\" : []\n",
    "}\n",
    "for dirname, _, filenames in os.walk('C:\\Users\\asus\\Desktop/processed_images'):\n",
    "    for filename in filenames:\n",
    "        path = os.path.join(dirname, filename)\n",
    "        if \"train/cataract\" in path:\n",
    "            image_paths[\"train_cataract\"].append(path)\n",
    "        elif \"train/normal\" in path:\n",
    "            image_paths[\"train_normal\"].append(path)\n",
    "        elif \"test/cataract\" in path:\n",
    "            image_paths[\"test_cataract\"].append(path)\n",
    "        elif \"test/normal\" in path:\n",
    "            image_paths[\"test_normal\"].append(path)"
   ]
  },
  {
   "cell_type": "markdown",
   "metadata": {},
   "source": [
    "Bu kod, belirli bir dizindeki görüntü dosyalarını klasörlere göre ayırarak image_paths adlı bir sözlüğe yerleştiriyor. os.walk fonksiyonu, belirtilen dizinin altındaki tüm alt klasörleri dolaşarak dosya adlarını ve klasör adlarını elde etmeyi sağlar.\n",
    "\n",
    "Kod, 'Desktop/processed_images' dizini altında dolaşarak her dosyanın yolunu alır. Ardından dosya yolu, içinde belirli dizelerin geçip geçmediğini kontrol ederek, ilgili kategoriye göre (train_cataract, train_normal, test_cataract, test_normal) image_paths sözlüğüne ekleniyor.\n",
    "\n",
    "Örneğin:\n",
    "\n",
    "\"train/cataract\" içeren dosyalar, image_paths sözlüğündeki \"train_cataract\" anahtarına ekleniyor.\n",
    "\"train/normal\" içeren dosyalar, image_paths sözlüğündeki \"train_normal\" anahtarına ekleniyor.\n",
    "\"test/cataract\" içeren dosyalar, image_paths sözlüğündeki \"test_cataract\" anahtarına ekleniyor.\n",
    "\"test/normal\" içeren dosyalar, image_paths sözlüğündeki \"test_normal\" anahtarına ekleniyor.\n",
    "Bu işlem sonucunda, her kategoriye ait dosya yolları image_paths sözlüğünde ilgili anahtar altında saklanmış oluyor."
   ]
  },
  {
   "cell_type": "code",
   "execution_count": 13,
   "metadata": {},
   "outputs": [
    {
     "name": "stdout",
     "output_type": "stream",
     "text": [
      "Eğitim Dosyası Altında Bulunan Normal Göz Verisi Adeti: 0\n",
      "Eğitim Dosyası Altında Bulunan Katarak Göz Verisi Adeti: 0\n",
      "Test Dosyası Altında Bulunan Normal Göz Verisi Adeti: 0\n",
      "Test Dosyası Altında Bulunan Katarak Göz Verisi Adeti: 0\n"
     ]
    }
   ],
   "source": [
    "print(\"Eğitim Dosyası Altında Bulunan Normal Göz Verisi Adeti:\", len(image_paths[\"train_normal\"]))\n",
    "print(\"Eğitim Dosyası Altında Bulunan Katarak Göz Verisi Adeti:\", len(image_paths[\"train_cataract\"]))\n",
    "print(\"Test Dosyası Altında Bulunan Normal Göz Verisi Adeti:\", len(image_paths[\"test_normal\"]))\n",
    "print(\"Test Dosyası Altında Bulunan Katarak Göz Verisi Adeti:\", len(image_paths[\"test_cataract\"]))\n"
   ]
  },
  {
   "cell_type": "markdown",
   "metadata": {},
   "source": [
    "\n",
    "Bu kod parçası, image_paths adlı sözlük yapısının \"train_normal\" anahtarına sahip listenin uzunluğunu (len()) hesaplar.\n",
    "\n",
    "Örneğin, image_paths[\"train_normal\"] listenin içinde \"train_normal\" kategorisi altında kaç adet dosya yolunun bulunduğunu belirtir. len(image_paths[\"train_normal\"]) ifadesi, bu kategoride bulunan dosya yolunun toplam sayısını döndürür. Eğer bu değeri çalıştırırsak, \"train_normal\" kategorisindeki dosya yollarının toplam sayısını elde ederiz."
   ]
  },
  {
   "cell_type": "code",
   "execution_count": 14,
   "metadata": {},
   "outputs": [
    {
     "ename": "IndexError",
     "evalue": "list index out of range",
     "output_type": "error",
     "traceback": [
      "\u001b[1;31m---------------------------------------------------------------------------\u001b[0m",
      "\u001b[1;31mIndexError\u001b[0m                                Traceback (most recent call last)",
      "Cell \u001b[1;32mIn[14], line 1\u001b[0m\n\u001b[1;32m----> 1\u001b[0m sample_img \u001b[38;5;241m=\u001b[39m np\u001b[38;5;241m.\u001b[39marray(Image\u001b[38;5;241m.\u001b[39mopen(image_paths[\u001b[38;5;124m\"\u001b[39m\u001b[38;5;124mtest_normal\u001b[39m\u001b[38;5;124m\"\u001b[39m][\u001b[38;5;241m5\u001b[39m]))\n\u001b[0;32m      2\u001b[0m \u001b[38;5;28mprint\u001b[39m(\u001b[38;5;124mf\u001b[39m\u001b[38;5;124m\"\u001b[39m\u001b[38;5;124msize of image : \u001b[39m\u001b[38;5;132;01m{\u001b[39;00mnp\u001b[38;5;241m.\u001b[39mshape(sample_img)\u001b[38;5;132;01m}\u001b[39;00m\u001b[38;5;124m\"\u001b[39m)\n\u001b[0;32m      3\u001b[0m plt\u001b[38;5;241m.\u001b[39mimshow(sample_img)\n",
      "\u001b[1;31mIndexError\u001b[0m: list index out of range"
     ]
    }
   ],
   "source": [
    "sample_img = np.array(Image.open(image_paths[\"test_normal\"][5]))\n",
    "print(f\"size of image : {np.shape(sample_img)}\")\n",
    "plt.imshow(sample_img)"
   ]
  },
  {
   "cell_type": "code",
   "execution_count": 15,
   "metadata": {},
   "outputs": [
    {
     "ename": "IndexError",
     "evalue": "list index out of range",
     "output_type": "error",
     "traceback": [
      "\u001b[1;31m---------------------------------------------------------------------------\u001b[0m",
      "\u001b[1;31mIndexError\u001b[0m                                Traceback (most recent call last)",
      "Cell \u001b[1;32mIn[15], line 2\u001b[0m\n\u001b[0;32m      1\u001b[0m \u001b[38;5;66;03m# Görseli al\u001b[39;00m\n\u001b[1;32m----> 2\u001b[0m sample_img \u001b[38;5;241m=\u001b[39m np\u001b[38;5;241m.\u001b[39marray(Image\u001b[38;5;241m.\u001b[39mopen(image_paths[\u001b[38;5;124m\"\u001b[39m\u001b[38;5;124mtest_normal\u001b[39m\u001b[38;5;124m\"\u001b[39m][\u001b[38;5;241m5\u001b[39m]))\n\u001b[0;32m      4\u001b[0m \u001b[38;5;66;03m# Boyutlandırma\u001b[39;00m\n\u001b[0;32m      5\u001b[0m resized_img \u001b[38;5;241m=\u001b[39m np\u001b[38;5;241m.\u001b[39marray(Image\u001b[38;5;241m.\u001b[39mfromarray(sample_img)\u001b[38;5;241m.\u001b[39mresize((\u001b[38;5;241m94\u001b[39m, \u001b[38;5;241m55\u001b[39m)))\n",
      "\u001b[1;31mIndexError\u001b[0m: list index out of range"
     ]
    }
   ],
   "source": [
    "# Görseli al\n",
    "sample_img = np.array(Image.open(image_paths[\"test_normal\"][5]))\n",
    "\n",
    "# Boyutlandırma\n",
    "resized_img = np.array(Image.fromarray(sample_img).resize((94, 55)))\n",
    "\n",
    "# Yeni boyut\n",
    "print(f\"Resized image shape: {np.shape(resized_img)}\")\n",
    "\n",
    "# Görseli göster\n",
    "plt.imshow(resized_img)\n",
    "plt.show()\n"
   ]
  },
  {
   "cell_type": "markdown",
   "metadata": {},
   "source": [
    "RGB (Red, Green, Blue) Formatı:\n",
    "\n",
    "Eğer kanal sayısı 3 ise (örneğin, (100, 100, 3)), bu genellikle renkli bir görüntüyü ifade eder. Her bir piksel, kırmızı, yeşil ve mavi renk kanallarının bir kombinasyonu ile oluşturulur."
   ]
  },
  {
   "cell_type": "code",
   "execution_count": 16,
   "metadata": {},
   "outputs": [
    {
     "ename": "IndexError",
     "evalue": "list index out of range",
     "output_type": "error",
     "traceback": [
      "\u001b[1;31m---------------------------------------------------------------------------\u001b[0m",
      "\u001b[1;31mIndexError\u001b[0m                                Traceback (most recent call last)",
      "Cell \u001b[1;32mIn[16], line 1\u001b[0m\n\u001b[1;32m----> 1\u001b[0m sample_img \u001b[38;5;241m=\u001b[39m np\u001b[38;5;241m.\u001b[39marray(Image\u001b[38;5;241m.\u001b[39mopen(image_paths[\u001b[38;5;124m\"\u001b[39m\u001b[38;5;124mtest_cataract\u001b[39m\u001b[38;5;124m\"\u001b[39m][\u001b[38;5;241m4\u001b[39m]))\n\u001b[0;32m      2\u001b[0m \u001b[38;5;28mprint\u001b[39m(\u001b[38;5;124mf\u001b[39m\u001b[38;5;124m\"\u001b[39m\u001b[38;5;124msize of image : \u001b[39m\u001b[38;5;132;01m{\u001b[39;00mnp\u001b[38;5;241m.\u001b[39mshape(sample_img)\u001b[38;5;132;01m}\u001b[39;00m\u001b[38;5;124m\"\u001b[39m)\n\u001b[0;32m      3\u001b[0m plt\u001b[38;5;241m.\u001b[39mimshow(sample_img)\n",
      "\u001b[1;31mIndexError\u001b[0m: list index out of range"
     ]
    }
   ],
   "source": [
    "sample_img = np.array(Image.open(image_paths[\"test_cataract\"][4]))\n",
    "print(f\"size of image : {np.shape(sample_img)}\")\n",
    "plt.imshow(sample_img)"
   ]
  },
  {
   "cell_type": "code",
   "execution_count": 17,
   "metadata": {},
   "outputs": [
    {
     "ename": "IndexError",
     "evalue": "list index out of range",
     "output_type": "error",
     "traceback": [
      "\u001b[1;31m---------------------------------------------------------------------------\u001b[0m",
      "\u001b[1;31mIndexError\u001b[0m                                Traceback (most recent call last)",
      "Cell \u001b[1;32mIn[17], line 2\u001b[0m\n\u001b[0;32m      1\u001b[0m \u001b[38;5;66;03m# Görseli al\u001b[39;00m\n\u001b[1;32m----> 2\u001b[0m sample_img \u001b[38;5;241m=\u001b[39m np\u001b[38;5;241m.\u001b[39marray(Image\u001b[38;5;241m.\u001b[39mopen(image_paths[\u001b[38;5;124m\"\u001b[39m\u001b[38;5;124mtest_cataract\u001b[39m\u001b[38;5;124m\"\u001b[39m][\u001b[38;5;241m4\u001b[39m]))\n\u001b[0;32m      4\u001b[0m \u001b[38;5;66;03m# Boyutlandırma\u001b[39;00m\n\u001b[0;32m      5\u001b[0m resized_img \u001b[38;5;241m=\u001b[39m np\u001b[38;5;241m.\u001b[39marray(Image\u001b[38;5;241m.\u001b[39mfromarray(sample_img)\u001b[38;5;241m.\u001b[39mresize((\u001b[38;5;241m94\u001b[39m, \u001b[38;5;241m55\u001b[39m)))\n",
      "\u001b[1;31mIndexError\u001b[0m: list index out of range"
     ]
    }
   ],
   "source": [
    "# Görseli al\n",
    "sample_img = np.array(Image.open(image_paths[\"test_cataract\"][4]))\n",
    "\n",
    "# Boyutlandırma\n",
    "resized_img = np.array(Image.fromarray(sample_img).resize((94, 55)))\n",
    "\n",
    "# Yeni boyut\n",
    "print(f\"Resized image shape: {np.shape(resized_img)}\")\n",
    "\n",
    "# Görseli göster\n",
    "plt.imshow(resized_img)\n",
    "plt.show()\n"
   ]
  },
  {
   "cell_type": "code",
   "execution_count": 18,
   "metadata": {},
   "outputs": [],
   "source": [
    "training_dir = \"Desktop/processed_images/train/\"\n",
    "image_size = (55, 94, 3)\n",
    "target_size = (55, 94)"
   ]
  },
  {
   "cell_type": "code",
   "execution_count": 19,
   "metadata": {},
   "outputs": [
    {
     "ename": "NameError",
     "evalue": "name 'ImageDataGenerator' is not defined",
     "output_type": "error",
     "traceback": [
      "\u001b[1;31m---------------------------------------------------------------------------\u001b[0m",
      "\u001b[1;31mNameError\u001b[0m                                 Traceback (most recent call last)",
      "Cell \u001b[1;32mIn[19], line 1\u001b[0m\n\u001b[1;32m----> 1\u001b[0m train_datagen \u001b[38;5;241m=\u001b[39m ImageDataGenerator(rescale\u001b[38;5;241m=\u001b[39m\u001b[38;5;241m1\u001b[39m\u001b[38;5;241m/\u001b[39m\u001b[38;5;241m255\u001b[39m)\n\u001b[0;32m      2\u001b[0m train_generator \u001b[38;5;241m=\u001b[39m train_datagen\u001b[38;5;241m.\u001b[39mflow_from_directory(\n\u001b[0;32m      3\u001b[0m     training_dir,\n\u001b[0;32m      4\u001b[0m     target_size \u001b[38;5;241m=\u001b[39m target_size,\n\u001b[0;32m      5\u001b[0m     class_mode \u001b[38;5;241m=\u001b[39m \u001b[38;5;124m'\u001b[39m\u001b[38;5;124mbinary\u001b[39m\u001b[38;5;124m'\u001b[39m\n\u001b[0;32m      6\u001b[0m )\n",
      "\u001b[1;31mNameError\u001b[0m: name 'ImageDataGenerator' is not defined"
     ]
    }
   ],
   "source": [
    "train_datagen = ImageDataGenerator(rescale=1/255)\n",
    "train_generator = train_datagen.flow_from_directory(\n",
    "    training_dir,\n",
    "    target_size = target_size,\n",
    "    class_mode = 'binary'\n",
    ")"
   ]
  },
  {
   "cell_type": "code",
   "execution_count": 20,
   "metadata": {},
   "outputs": [
    {
     "ename": "NameError",
     "evalue": "name 'ImageDataGenerator' is not defined",
     "output_type": "error",
     "traceback": [
      "\u001b[1;31m---------------------------------------------------------------------------\u001b[0m",
      "\u001b[1;31mNameError\u001b[0m                                 Traceback (most recent call last)",
      "Cell \u001b[1;32mIn[20], line 6\u001b[0m\n\u001b[0;32m      3\u001b[0m target_size \u001b[38;5;241m=\u001b[39m (\u001b[38;5;241m55\u001b[39m, \u001b[38;5;241m94\u001b[39m)\n\u001b[0;32m      5\u001b[0m \u001b[38;5;66;03m# ImageDataGenerator oluştur\u001b[39;00m\n\u001b[1;32m----> 6\u001b[0m train_datagen \u001b[38;5;241m=\u001b[39m ImageDataGenerator(rescale\u001b[38;5;241m=\u001b[39m\u001b[38;5;241m1\u001b[39m\u001b[38;5;241m/\u001b[39m\u001b[38;5;241m255\u001b[39m)\n\u001b[0;32m      8\u001b[0m \u001b[38;5;66;03m# Veri yükleyici oluştur\u001b[39;00m\n\u001b[0;32m      9\u001b[0m train_generator \u001b[38;5;241m=\u001b[39m train_datagen\u001b[38;5;241m.\u001b[39mflow_from_directory(\n\u001b[0;32m     10\u001b[0m     training_dir,\n\u001b[0;32m     11\u001b[0m     target_size\u001b[38;5;241m=\u001b[39mtarget_size,\n\u001b[0;32m     12\u001b[0m     class_mode\u001b[38;5;241m=\u001b[39m\u001b[38;5;124m'\u001b[39m\u001b[38;5;124mbinary\u001b[39m\u001b[38;5;124m'\u001b[39m\n\u001b[0;32m     13\u001b[0m )\n",
      "\u001b[1;31mNameError\u001b[0m: name 'ImageDataGenerator' is not defined"
     ]
    }
   ],
   "source": [
    "# Veri yolu\n",
    "training_dir = \"Desktop/processed_images/train/\"\n",
    "target_size = (55, 94)\n",
    "\n",
    "# ImageDataGenerator oluştur\n",
    "train_datagen = ImageDataGenerator(rescale=1/255)\n",
    "\n",
    "# Veri yükleyici oluştur\n",
    "train_generator = train_datagen.flow_from_directory(\n",
    "    training_dir,\n",
    "    target_size=target_size,\n",
    "    class_mode='binary'\n",
    ")\n",
    "\n",
    "# Bilgiyi ekrana yazdır\n",
    "print(\"Train Generator Information:\")\n",
    "print(f\"Number of samples: {train_generator.samples}\")\n",
    "print(f\"Classes: {train_generator.class_indices}\")\n",
    "print(f\"Batch size: {train_generator.batch_size}\")\n",
    "print(f\"Image shape: {train_generator.image_shape}\")\n"
   ]
  },
  {
   "cell_type": "code",
   "execution_count": 21,
   "metadata": {},
   "outputs": [
    {
     "ename": "NameError",
     "evalue": "name 'Sequential' is not defined",
     "output_type": "error",
     "traceback": [
      "\u001b[1;31m---------------------------------------------------------------------------\u001b[0m",
      "\u001b[1;31mNameError\u001b[0m                                 Traceback (most recent call last)",
      "Cell \u001b[1;32mIn[21], line 1\u001b[0m\n\u001b[1;32m----> 1\u001b[0m model \u001b[38;5;241m=\u001b[39m Sequential([\n\u001b[0;32m      2\u001b[0m     Conv2D(\u001b[38;5;241m16\u001b[39m, (\u001b[38;5;241m3\u001b[39m,\u001b[38;5;241m3\u001b[39m), activation\u001b[38;5;241m=\u001b[39m\u001b[38;5;124m'\u001b[39m\u001b[38;5;124mrelu\u001b[39m\u001b[38;5;124m'\u001b[39m,input_shape\u001b[38;5;241m=\u001b[39mimage_size),\n\u001b[0;32m      3\u001b[0m     MaxPooling2D(\u001b[38;5;241m2\u001b[39m, \u001b[38;5;241m2\u001b[39m),\n\u001b[0;32m      4\u001b[0m     Conv2D(\u001b[38;5;241m32\u001b[39m, (\u001b[38;5;241m3\u001b[39m,\u001b[38;5;241m3\u001b[39m), activation\u001b[38;5;241m=\u001b[39m\u001b[38;5;124m'\u001b[39m\u001b[38;5;124mrelu\u001b[39m\u001b[38;5;124m'\u001b[39m),\n\u001b[0;32m      5\u001b[0m     MaxPooling2D(\u001b[38;5;241m2\u001b[39m,\u001b[38;5;241m2\u001b[39m),\n\u001b[0;32m      6\u001b[0m     Flatten(),\n\u001b[0;32m      7\u001b[0m     Dense(\u001b[38;5;241m128\u001b[39m, activation\u001b[38;5;241m=\u001b[39m\u001b[38;5;124m'\u001b[39m\u001b[38;5;124mrelu\u001b[39m\u001b[38;5;124m'\u001b[39m),\n\u001b[0;32m      8\u001b[0m     Dense(\u001b[38;5;241m1\u001b[39m, activation\u001b[38;5;241m=\u001b[39m\u001b[38;5;124m'\u001b[39m\u001b[38;5;124msigmoid\u001b[39m\u001b[38;5;124m'\u001b[39m)\n\u001b[0;32m      9\u001b[0m ])\n",
      "\u001b[1;31mNameError\u001b[0m: name 'Sequential' is not defined"
     ]
    }
   ],
   "source": [
    "model = Sequential([\n",
    "    Conv2D(16, (3,3), activation='relu',input_shape=image_size),\n",
    "    MaxPooling2D(2, 2),\n",
    "    Conv2D(32, (3,3), activation='relu'),\n",
    "    MaxPooling2D(2,2),\n",
    "    Flatten(),\n",
    "    Dense(128, activation='relu'),\n",
    "    Dense(1, activation='sigmoid')\n",
    "])"
   ]
  },
  {
   "cell_type": "code",
   "execution_count": 22,
   "metadata": {},
   "outputs": [
    {
     "ename": "NameError",
     "evalue": "name 'model' is not defined",
     "output_type": "error",
     "traceback": [
      "\u001b[1;31m---------------------------------------------------------------------------\u001b[0m",
      "\u001b[1;31mNameError\u001b[0m                                 Traceback (most recent call last)",
      "Cell \u001b[1;32mIn[22], line 1\u001b[0m\n\u001b[1;32m----> 1\u001b[0m model\u001b[38;5;241m.\u001b[39msummary()\n",
      "\u001b[1;31mNameError\u001b[0m: name 'model' is not defined"
     ]
    }
   ],
   "source": [
    "model.summary()"
   ]
  },
  {
   "cell_type": "markdown",
   "metadata": {},
   "source": [
    "Model özeti, her bir katmanın türünü, çıktı şeklini ve parametre sayısını gösterir. Örneğin, burada bir evrişimli sinir ağı (CNN) modeli özetlenmiş.\n",
    "\n",
    "İlk evrişimli katman (Conv2D) giriş görüntüsünü (55x94x3) işler ve 16 adet 3x3 filtre kullanır. Bu katmanın çıktı şekli (None, 53, 92, 16) ve toplam 448 parametresi vardır.\n",
    "Ardından bir MaxPooling katmanı (MaxPooling2D) gelir. Bu katman, evrişimli katmanın çıktısını 2x2 boyutunda bir pencere ile işleyerek boyutunu (None, 26, 46, 16) şekline küçültür.\n",
    "Bir sonraki evrişimli katman da benzer şekilde (None, 24, 44, 32) şeklinde bir çıktı verir ve 4640 parametreye sahiptir.\n",
    "İkinci bir MaxPooling katmanı gelir ve çıktı boyutunu (None, 12, 22, 32) şekline küçültür.\n",
    "Flatten katmanı, evrişimli ve havuzlama katmanlarının çıktılarını düzleştirir ve (None, 8448) şeklinde bir çıktı verir.\n",
    "Yoğun (fully connected) katmanlar olan iki Dense katmanı gelir. 128 nöron içeren ilk yoğun katman (None, 128) şeklinde çıktı verirken, ikinci katman bir sınıflandırma çıktısı olan (None, 1) şeklinde bir çıktı üretir.\n",
    "Toplamda, modelinizin 1,086,689 parametresi bulunuyor. Bu parametreler, ağı eğitmek için kullanılan öğrenilebilir ağırlıkları ve önyargıları içerir. Trainable params ifadesi, bu parametrelerin tümünün eğitilebilir olduğunu ve eğitim sürecinde güncellenebileceğini belirtir. Non-trainable params ise bu modelde eğitilemeyen (donmuş) parametreleri ifade eder. Bu durum, örneğin, önceden eğitilmiş ağırlıkların kullanıldığı transfer öğrenme gibi senaryolarda ortaya çıkabilir."
   ]
  },
  {
   "cell_type": "code",
   "execution_count": 24,
   "metadata": {},
   "outputs": [
    {
     "ename": "NameError",
     "evalue": "name 'model' is not defined",
     "output_type": "error",
     "traceback": [
      "\u001b[1;31m---------------------------------------------------------------------------\u001b[0m",
      "\u001b[1;31mNameError\u001b[0m                                 Traceback (most recent call last)",
      "Cell \u001b[1;32mIn[24], line 1\u001b[0m\n\u001b[1;32m----> 1\u001b[0m model\u001b[38;5;241m.\u001b[39mcompile(\n\u001b[0;32m      2\u001b[0m     loss \u001b[38;5;241m=\u001b[39m \u001b[38;5;124m'\u001b[39m\u001b[38;5;124mbinary_crossentropy\u001b[39m\u001b[38;5;124m'\u001b[39m,\n\u001b[0;32m      3\u001b[0m     optimizer\u001b[38;5;241m=\u001b[39mRMSprop(lr\u001b[38;5;241m=\u001b[39m\u001b[38;5;241m0.001\u001b[39m),\n\u001b[0;32m      4\u001b[0m     metrics\u001b[38;5;241m=\u001b[39m[\u001b[38;5;124m'\u001b[39m\u001b[38;5;124maccuracy\u001b[39m\u001b[38;5;124m'\u001b[39m]\n\u001b[0;32m      5\u001b[0m )\n",
      "\u001b[1;31mNameError\u001b[0m: name 'model' is not defined"
     ]
    }
   ],
   "source": [
    "model.compile(\n",
    "    loss = 'binary_crossentropy',\n",
    "    optimizer=RMSprop(lr=0.001),\n",
    "    metrics=['accuracy']\n",
    ")"
   ]
  },
  {
   "cell_type": "code",
   "execution_count": 25,
   "metadata": {
    "scrolled": true
   },
   "outputs": [
    {
     "ename": "NameError",
     "evalue": "name 'model' is not defined",
     "output_type": "error",
     "traceback": [
      "\u001b[1;31m---------------------------------------------------------------------------\u001b[0m",
      "\u001b[1;31mNameError\u001b[0m                                 Traceback (most recent call last)",
      "Cell \u001b[1;32mIn[25], line 1\u001b[0m\n\u001b[1;32m----> 1\u001b[0m history \u001b[38;5;241m=\u001b[39m model\u001b[38;5;241m.\u001b[39mfit_generator(\n\u001b[0;32m      2\u001b[0m     train_generator,\n\u001b[0;32m      3\u001b[0m     epochs\u001b[38;5;241m=\u001b[39m\u001b[38;5;241m16\u001b[39m\n\u001b[0;32m      4\u001b[0m )\n",
      "\u001b[1;31mNameError\u001b[0m: name 'model' is not defined"
     ]
    }
   ],
   "source": [
    "history = model.fit_generator(\n",
    "    train_generator,\n",
    "    epochs=16\n",
    ")"
   ]
  },
  {
   "cell_type": "code",
   "execution_count": 26,
   "metadata": {},
   "outputs": [
    {
     "ename": "NameError",
     "evalue": "name 'history' is not defined",
     "output_type": "error",
     "traceback": [
      "\u001b[1;31m---------------------------------------------------------------------------\u001b[0m",
      "\u001b[1;31mNameError\u001b[0m                                 Traceback (most recent call last)",
      "Cell \u001b[1;32mIn[26], line 4\u001b[0m\n\u001b[0;32m      2\u001b[0m plt\u001b[38;5;241m.\u001b[39mfigure(figsize\u001b[38;5;241m=\u001b[39m(\u001b[38;5;241m10\u001b[39m, \u001b[38;5;241m5\u001b[39m))\n\u001b[0;32m      3\u001b[0m plt\u001b[38;5;241m.\u001b[39mtitle(\u001b[38;5;124m\"\u001b[39m\u001b[38;5;124mloss vs accuracy of model\u001b[39m\u001b[38;5;124m\"\u001b[39m)\n\u001b[1;32m----> 4\u001b[0m plt\u001b[38;5;241m.\u001b[39mplot(epochs, history\u001b[38;5;241m.\u001b[39mhistory[\u001b[38;5;124m'\u001b[39m\u001b[38;5;124mloss\u001b[39m\u001b[38;5;124m'\u001b[39m], label\u001b[38;5;241m=\u001b[39m\u001b[38;5;124m'\u001b[39m\u001b[38;5;124mloss\u001b[39m\u001b[38;5;124m'\u001b[39m)\n\u001b[0;32m      5\u001b[0m plt\u001b[38;5;241m.\u001b[39mplot(epochs, history\u001b[38;5;241m.\u001b[39mhistory[\u001b[38;5;124m'\u001b[39m\u001b[38;5;124maccuracy\u001b[39m\u001b[38;5;124m'\u001b[39m], label\u001b[38;5;241m=\u001b[39m\u001b[38;5;124m'\u001b[39m\u001b[38;5;124maccuracy\u001b[39m\u001b[38;5;124m'\u001b[39m)\n\u001b[0;32m      6\u001b[0m plt\u001b[38;5;241m.\u001b[39mgrid()\n",
      "\u001b[1;31mNameError\u001b[0m: name 'history' is not defined"
     ]
    },
    {
     "data": {
      "image/png": "[encoded data removed]",
      "text/plain": [
       "<Figure size 1000x500 with 1 Axes>"
      ]
     },
     "metadata": {},
     "output_type": "display_data"
    }
   ],
   "source": [
    "epochs = range(1, 17)\n",
    "plt.figure(figsize=(10, 5))\n",
    "plt.title(\"loss vs accuracy of model\")\n",
    "plt.plot(epochs, history.history['loss'], label='loss')\n",
    "plt.plot(epochs, history.history['accuracy'], label='accuracy')\n",
    "plt.grid()\n",
    "plt.xlabel(\"epochs\")\n",
    "plt.grid()\n",
    "plt.legend()"
   ]
  },
  {
   "cell_type": "code",
   "execution_count": 27,
   "metadata": {},
   "outputs": [
    {
     "ename": "ModuleNotFoundError",
     "evalue": "No module named 'tensorflow'",
     "output_type": "error",
     "traceback": [
      "\u001b[1;31m---------------------------------------------------------------------------\u001b[0m",
      "\u001b[1;31mModuleNotFoundError\u001b[0m                       Traceback (most recent call last)",
      "Cell \u001b[1;32mIn[27], line 1\u001b[0m\n\u001b[1;32m----> 1\u001b[0m \u001b[38;5;28;01mimport\u001b[39;00m \u001b[38;5;21;01mtensorflow\u001b[39;00m \u001b[38;5;28;01mas\u001b[39;00m \u001b[38;5;21;01mtf\u001b[39;00m\n",
      "\u001b[1;31mModuleNotFoundError\u001b[0m: No module named 'tensorflow'"
     ]
    }
   ],
   "source": [
    "import tensorflow as tf"
   ]
  },
  {
   "cell_type": "code",
   "execution_count": 28,
   "metadata": {},
   "outputs": [
    {
     "ename": "NameError",
     "evalue": "name 'tf' is not defined",
     "output_type": "error",
     "traceback": [
      "\u001b[1;31m---------------------------------------------------------------------------\u001b[0m",
      "\u001b[1;31mNameError\u001b[0m                                 Traceback (most recent call last)",
      "Cell \u001b[1;32mIn[28], line 2\u001b[0m\n\u001b[0;32m      1\u001b[0m \u001b[38;5;66;03m# Convert the model.\u001b[39;00m\n\u001b[1;32m----> 2\u001b[0m converter \u001b[38;5;241m=\u001b[39m tf\u001b[38;5;241m.\u001b[39mlite\u001b[38;5;241m.\u001b[39mTFLiteConverter\u001b[38;5;241m.\u001b[39mfrom_keras_model(model)\n\u001b[0;32m      3\u001b[0m tflite_model \u001b[38;5;241m=\u001b[39m converter\u001b[38;5;241m.\u001b[39mconvert()\n\u001b[0;32m      5\u001b[0m \u001b[38;5;66;03m# Save the model.\u001b[39;00m\n",
      "\u001b[1;31mNameError\u001b[0m: name 'tf' is not defined"
     ]
    }
   ],
   "source": [
    "# Convert the model.\n",
    "converter = tf.lite.TFLiteConverter.from_keras_model(model)\n",
    "tflite_model = converter.convert()\n",
    "\n",
    "# Save the model.\n",
    "with open('model.tflite', 'wb') as f:\n",
    "  f.write(tflite_model)"
   ]
  },
  {
   "cell_type": "code",
   "execution_count": 29,
   "metadata": {},
   "outputs": [
    {
     "ename": "ModuleNotFoundError",
     "evalue": "No module named 'keras'",
     "output_type": "error",
     "traceback": [
      "\u001b[1;31m---------------------------------------------------------------------------\u001b[0m",
      "\u001b[1;31mModuleNotFoundError\u001b[0m                       Traceback (most recent call last)",
      "Cell \u001b[1;32mIn[29], line 1\u001b[0m\n\u001b[1;32m----> 1\u001b[0m \u001b[38;5;28;01mfrom\u001b[39;00m \u001b[38;5;21;01mkeras\u001b[39;00m\u001b[38;5;21;01m.\u001b[39;00m\u001b[38;5;21;01mpreprocessing\u001b[39;00m \u001b[38;5;28;01mimport\u001b[39;00m image\n",
      "\u001b[1;31mModuleNotFoundError\u001b[0m: No module named 'keras'"
     ]
    }
   ],
   "source": [
    "from keras.preprocessing import image"
   ]
  },
  {
   "cell_type": "code",
   "execution_count": 30,
   "metadata": {},
   "outputs": [
    {
     "ename": "NameError",
     "evalue": "name 'train_generator' is not defined",
     "output_type": "error",
     "traceback": [
      "\u001b[1;31m---------------------------------------------------------------------------\u001b[0m",
      "\u001b[1;31mNameError\u001b[0m                                 Traceback (most recent call last)",
      "Cell \u001b[1;32mIn[30], line 1\u001b[0m\n\u001b[1;32m----> 1\u001b[0m label \u001b[38;5;241m=\u001b[39m train_generator\u001b[38;5;241m.\u001b[39mclass_indices\n\u001b[0;32m      2\u001b[0m \u001b[38;5;28mprint\u001b[39m(label)\n",
      "\u001b[1;31mNameError\u001b[0m: name 'train_generator' is not defined"
     ]
    }
   ],
   "source": [
    "label = train_generator.class_indices\n",
    "print(label)"
   ]
  },
  {
   "cell_type": "code",
   "execution_count": 31,
   "metadata": {},
   "outputs": [
    {
     "ename": "IndexError",
     "evalue": "list index out of range",
     "output_type": "error",
     "traceback": [
      "\u001b[1;31m---------------------------------------------------------------------------\u001b[0m",
      "\u001b[1;31mIndexError\u001b[0m                                Traceback (most recent call last)",
      "Cell \u001b[1;32mIn[31], line 1\u001b[0m\n\u001b[1;32m----> 1\u001b[0m path \u001b[38;5;241m=\u001b[39m image_paths[\u001b[38;5;124m\"\u001b[39m\u001b[38;5;124mtest_cataract\u001b[39m\u001b[38;5;124m\"\u001b[39m][\u001b[38;5;241m0\u001b[39m]\n\u001b[0;32m      2\u001b[0m img \u001b[38;5;241m=\u001b[39m Image\u001b[38;5;241m.\u001b[39mopen(path)\n\u001b[0;32m      3\u001b[0m plt\u001b[38;5;241m.\u001b[39mimshow(np\u001b[38;5;241m.\u001b[39marray(img))\n",
      "\u001b[1;31mIndexError\u001b[0m: list index out of range"
     ]
    }
   ],
   "source": [
    "path = image_paths[\"test_cataract\"][0]\n",
    "img = Image.open(path)\n",
    "plt.imshow(np.array(img))\n",
    "img = np.array(img.resize((94, 55)))\n",
    "img = np.expand_dims(img, axis=0)\n",
    "pred = model.predict(img)\n",
    "print(\"actual class : cataract\")\n",
    "print(f\"predicted class : {'normal' if pred[0] > 0.5 else 'cataract'}\")"
   ]
  },
  {
   "cell_type": "code",
   "execution_count": 32,
   "metadata": {},
   "outputs": [
    {
     "ename": "IndexError",
     "evalue": "list index out of range",
     "output_type": "error",
     "traceback": [
      "\u001b[1;31m---------------------------------------------------------------------------\u001b[0m",
      "\u001b[1;31mIndexError\u001b[0m                                Traceback (most recent call last)",
      "Cell \u001b[1;32mIn[32], line 1\u001b[0m\n\u001b[1;32m----> 1\u001b[0m path \u001b[38;5;241m=\u001b[39m image_paths[\u001b[38;5;124m\"\u001b[39m\u001b[38;5;124mtest_normal\u001b[39m\u001b[38;5;124m\"\u001b[39m][\u001b[38;5;241m1\u001b[39m]\n\u001b[0;32m      2\u001b[0m img \u001b[38;5;241m=\u001b[39m Image\u001b[38;5;241m.\u001b[39mopen(path)\n\u001b[0;32m      3\u001b[0m plt\u001b[38;5;241m.\u001b[39mimshow(np\u001b[38;5;241m.\u001b[39marray(img))\n",
      "\u001b[1;31mIndexError\u001b[0m: list index out of range"
     ]
    }
   ],
   "source": [
    "path = image_paths[\"test_normal\"][1]\n",
    "img = Image.open(path)\n",
    "plt.imshow(np.array(img))\n",
    "img = np.array(img.resize((94, 55)))\n",
    "img = np.expand_dims(img, axis=0)\n",
    "pred = model.predict(img)\n",
    "print(\"actual class : normal\")\n",
    "print(f\"predicted class : {'normal' if pred[0] > 0.5 else 'cataract'}\")"
   ]
  },
  {
   "cell_type": "code",
   "execution_count": 33,
   "metadata": {},
   "outputs": [],
   "source": [
    "def _predict(model, path):\n",
    "    img = np.array(Image.open(path).resize((94, 55)))\n",
    "    img = np.expand_dims(img, axis=0)\n",
    "    pred = model.predict(img)\n",
    "    if pred[0] > 0.5:\n",
    "        return 'normal'\n",
    "    else:\n",
    "        return 'cataract'"
   ]
  },
  {
   "cell_type": "code",
   "execution_count": 34,
   "metadata": {},
   "outputs": [],
   "source": [
    "def evaluate(model, normal_path, cataract_path):\n",
    "    normal_pred = []\n",
    "    cataract_pred = []\n",
    "    for normal, cataract in zip(normal_path, cataract_path):\n",
    "        res_cataract = _predict(model, cataract)\n",
    "        cataract_pred.append(res_cataract)\n",
    "        \n",
    "        res_normal = _predict(model, normal)\n",
    "        normal_pred.append(res_normal)\n",
    "    \n",
    "    return normal_pred, cataract_pred"
   ]
  },
  {
   "cell_type": "code",
   "execution_count": 35,
   "metadata": {},
   "outputs": [
    {
     "ename": "NameError",
     "evalue": "name 'model' is not defined",
     "output_type": "error",
     "traceback": [
      "\u001b[1;31m---------------------------------------------------------------------------\u001b[0m",
      "\u001b[1;31mNameError\u001b[0m                                 Traceback (most recent call last)",
      "Cell \u001b[1;32mIn[35], line 4\u001b[0m\n\u001b[0;32m      2\u001b[0m cataract_test_path \u001b[38;5;241m=\u001b[39m image_paths[\u001b[38;5;124m\"\u001b[39m\u001b[38;5;124mtest_cataract\u001b[39m\u001b[38;5;124m\"\u001b[39m][:both_size]\n\u001b[0;32m      3\u001b[0m normal_test_path \u001b[38;5;241m=\u001b[39m image_paths[\u001b[38;5;124m\"\u001b[39m\u001b[38;5;124mtest_normal\u001b[39m\u001b[38;5;124m\"\u001b[39m][:both_size]\n\u001b[1;32m----> 4\u001b[0m normal_pred, cataract_pred \u001b[38;5;241m=\u001b[39m evaluate(model, image_paths[\u001b[38;5;124m\"\u001b[39m\u001b[38;5;124mtest_normal\u001b[39m\u001b[38;5;124m\"\u001b[39m], image_paths[\u001b[38;5;124m\"\u001b[39m\u001b[38;5;124mtest_cataract\u001b[39m\u001b[38;5;124m\"\u001b[39m])\n",
      "\u001b[1;31mNameError\u001b[0m: name 'model' is not defined"
     ]
    }
   ],
   "source": [
    "both_size = min(len(image_paths[\"test_normal\"]), len(image_paths[\"test_cataract\"]))\n",
    "cataract_test_path = image_paths[\"test_cataract\"][:both_size]\n",
    "normal_test_path = image_paths[\"test_normal\"][:both_size]\n",
    "normal_pred, cataract_pred = evaluate(model, image_paths[\"test_normal\"], image_paths[\"test_cataract\"])"
   ]
  },
  {
   "cell_type": "code",
   "execution_count": 36,
   "metadata": {},
   "outputs": [
    {
     "ename": "NameError",
     "evalue": "name 'normal_pred' is not defined",
     "output_type": "error",
     "traceback": [
      "\u001b[1;31m---------------------------------------------------------------------------\u001b[0m",
      "\u001b[1;31mNameError\u001b[0m                                 Traceback (most recent call last)",
      "Cell \u001b[1;32mIn[36], line 4\u001b[0m\n\u001b[0;32m      2\u001b[0m pred_df[\u001b[38;5;124m\"\u001b[39m\u001b[38;5;124mrelative_path\u001b[39m\u001b[38;5;124m\"\u001b[39m] \u001b[38;5;241m=\u001b[39m normal_test_path \u001b[38;5;241m+\u001b[39m cataract_test_path\n\u001b[0;32m      3\u001b[0m pred_df[\u001b[38;5;124m\"\u001b[39m\u001b[38;5;124mactual_class\u001b[39m\u001b[38;5;124m\"\u001b[39m] \u001b[38;5;241m=\u001b[39m [\u001b[38;5;124m\"\u001b[39m\u001b[38;5;124mnormal\u001b[39m\u001b[38;5;124m\"\u001b[39m]\u001b[38;5;241m*\u001b[39m\u001b[38;5;28mlen\u001b[39m(normal_test_path) \u001b[38;5;241m+\u001b[39m [\u001b[38;5;124m\"\u001b[39m\u001b[38;5;124mcataract\u001b[39m\u001b[38;5;124m\"\u001b[39m]\u001b[38;5;241m*\u001b[39m\u001b[38;5;28mlen\u001b[39m(cataract_test_path)\n\u001b[1;32m----> 4\u001b[0m pred_df[\u001b[38;5;124m\"\u001b[39m\u001b[38;5;124mpredicted_class\u001b[39m\u001b[38;5;124m\"\u001b[39m] \u001b[38;5;241m=\u001b[39m normal_pred \u001b[38;5;241m+\u001b[39m cataract_pred\n",
      "\u001b[1;31mNameError\u001b[0m: name 'normal_pred' is not defined"
     ]
    }
   ],
   "source": [
    "pred_df = pd.DataFrame()\n",
    "pred_df[\"relative_path\"] = normal_test_path + cataract_test_path\n",
    "pred_df[\"actual_class\"] = [\"normal\"]*len(normal_test_path) + [\"cataract\"]*len(cataract_test_path)\n",
    "pred_df[\"predicted_class\"] = normal_pred + cataract_pred"
   ]
  },
  {
   "cell_type": "code",
   "execution_count": 37,
   "metadata": {},
   "outputs": [
    {
     "data": {
      "text/html": [
       "<div>\n",
       "<style scoped>\n",
       "    .dataframe tbody tr th:only-of-type {\n",
       "        vertical-align: middle;\n",
       "    }\n",
       "\n",
       "    .dataframe tbody tr th {\n",
       "        vertical-align: top;\n",
       "    }\n",
       "\n",
       "    .dataframe thead th {\n",
       "        text-align: right;\n",
       "    }\n",
       "</style>\n",
       "<table border=\"1\" class=\"dataframe\">\n",
       "  <thead>\n",
       "    <tr style=\"text-align: right;\">\n",
       "      <th></th>\n",
       "      <th>relative_path</th>\n",
       "      <th>actual_class</th>\n",
       "    </tr>\n",
       "  </thead>\n",
       "  <tbody>\n",
       "  </tbody>\n",
       "</table>\n",
       "</div>"
      ],
      "text/plain": [
       "Empty DataFrame\n",
       "Columns: [relative_path, actual_class]\n",
       "Index: []"
      ]
     },
     "execution_count": 37,
     "metadata": {},
     "output_type": "execute_result"
    }
   ],
   "source": [
    "pred_df.tail(5)"
   ]
  },
  {
   "cell_type": "code",
   "execution_count": 38,
   "metadata": {},
   "outputs": [
    {
     "data": {
      "text/html": [
       "<div>\n",
       "<style scoped>\n",
       "    .dataframe tbody tr th:only-of-type {\n",
       "        vertical-align: middle;\n",
       "    }\n",
       "\n",
       "    .dataframe tbody tr th {\n",
       "        vertical-align: top;\n",
       "    }\n",
       "\n",
       "    .dataframe thead th {\n",
       "        text-align: right;\n",
       "    }\n",
       "</style>\n",
       "<table border=\"1\" class=\"dataframe\">\n",
       "  <thead>\n",
       "    <tr style=\"text-align: right;\">\n",
       "      <th></th>\n",
       "      <th>relative_path</th>\n",
       "      <th>actual_class</th>\n",
       "    </tr>\n",
       "  </thead>\n",
       "  <tbody>\n",
       "  </tbody>\n",
       "</table>\n",
       "</div>"
      ],
      "text/plain": [
       "Empty DataFrame\n",
       "Columns: [relative_path, actual_class]\n",
       "Index: []"
      ]
     },
     "execution_count": 38,
     "metadata": {},
     "output_type": "execute_result"
    }
   ],
   "source": [
    "pred_df.head(5)"
   ]
  },
  {
   "cell_type": "code",
   "execution_count": 39,
   "metadata": {},
   "outputs": [
    {
     "ename": "KeyError",
     "evalue": "'predicted_class'",
     "output_type": "error",
     "traceback": [
      "\u001b[1;31m---------------------------------------------------------------------------\u001b[0m",
      "\u001b[1;31mKeyError\u001b[0m                                  Traceback (most recent call last)",
      "File \u001b[1;32m~\\anaconda3\\Lib\\site-packages\\pandas\\core\\indexes\\base.py:3653\u001b[0m, in \u001b[0;36mIndex.get_loc\u001b[1;34m(self, key)\u001b[0m\n\u001b[0;32m   3652\u001b[0m \u001b[38;5;28;01mtry\u001b[39;00m:\n\u001b[1;32m-> 3653\u001b[0m     \u001b[38;5;28;01mreturn\u001b[39;00m \u001b[38;5;28mself\u001b[39m\u001b[38;5;241m.\u001b[39m_engine\u001b[38;5;241m.\u001b[39mget_loc(casted_key)\n\u001b[0;32m   3654\u001b[0m \u001b[38;5;28;01mexcept\u001b[39;00m \u001b[38;5;167;01mKeyError\u001b[39;00m \u001b[38;5;28;01mas\u001b[39;00m err:\n",
      "File \u001b[1;32m~\\anaconda3\\Lib\\site-packages\\pandas\\_libs\\index.pyx:147\u001b[0m, in \u001b[0;36mpandas._libs.index.IndexEngine.get_loc\u001b[1;34m()\u001b[0m\n",
      "File \u001b[1;32m~\\anaconda3\\Lib\\site-packages\\pandas\\_libs\\index.pyx:176\u001b[0m, in \u001b[0;36mpandas._libs.index.IndexEngine.get_loc\u001b[1;34m()\u001b[0m\n",
      "File \u001b[1;32mpandas\\_libs\\hashtable_class_helper.pxi:7080\u001b[0m, in \u001b[0;36mpandas._libs.hashtable.PyObjectHashTable.get_item\u001b[1;34m()\u001b[0m\n",
      "File \u001b[1;32mpandas\\_libs\\hashtable_class_helper.pxi:7088\u001b[0m, in \u001b[0;36mpandas._libs.hashtable.PyObjectHashTable.get_item\u001b[1;34m()\u001b[0m\n",
      "\u001b[1;31mKeyError\u001b[0m: 'predicted_class'",
      "\nThe above exception was the direct cause of the following exception:\n",
      "\u001b[1;31mKeyError\u001b[0m                                  Traceback (most recent call last)",
      "Cell \u001b[1;32mIn[39], line 2\u001b[0m\n\u001b[0;32m      1\u001b[0m tp \u001b[38;5;241m=\u001b[39m tn \u001b[38;5;241m=\u001b[39m fp \u001b[38;5;241m=\u001b[39m fn \u001b[38;5;241m=\u001b[39m \u001b[38;5;241m0\u001b[39m\n\u001b[1;32m----> 2\u001b[0m \u001b[38;5;28;01mfor\u001b[39;00m actual, predicted \u001b[38;5;129;01min\u001b[39;00m \u001b[38;5;28mzip\u001b[39m(\u001b[38;5;28mlist\u001b[39m(pred_df[\u001b[38;5;124m'\u001b[39m\u001b[38;5;124mactual_class\u001b[39m\u001b[38;5;124m'\u001b[39m]), \u001b[38;5;28mlist\u001b[39m(pred_df[\u001b[38;5;124m'\u001b[39m\u001b[38;5;124mpredicted_class\u001b[39m\u001b[38;5;124m'\u001b[39m])):\n\u001b[0;32m      3\u001b[0m     \u001b[38;5;28;01mif\u001b[39;00m actual \u001b[38;5;241m==\u001b[39m \u001b[38;5;124m'\u001b[39m\u001b[38;5;124mnormal\u001b[39m\u001b[38;5;124m'\u001b[39m \u001b[38;5;129;01mand\u001b[39;00m predicted \u001b[38;5;241m==\u001b[39m \u001b[38;5;124m'\u001b[39m\u001b[38;5;124mnormal\u001b[39m\u001b[38;5;124m'\u001b[39m:\n\u001b[0;32m      4\u001b[0m         tp \u001b[38;5;241m=\u001b[39m tp \u001b[38;5;241m+\u001b[39m \u001b[38;5;241m1\u001b[39m\n",
      "File \u001b[1;32m~\\anaconda3\\Lib\\site-packages\\pandas\\core\\frame.py:3761\u001b[0m, in \u001b[0;36mDataFrame.__getitem__\u001b[1;34m(self, key)\u001b[0m\n\u001b[0;32m   3759\u001b[0m \u001b[38;5;28;01mif\u001b[39;00m \u001b[38;5;28mself\u001b[39m\u001b[38;5;241m.\u001b[39mcolumns\u001b[38;5;241m.\u001b[39mnlevels \u001b[38;5;241m>\u001b[39m \u001b[38;5;241m1\u001b[39m:\n\u001b[0;32m   3760\u001b[0m     \u001b[38;5;28;01mreturn\u001b[39;00m \u001b[38;5;28mself\u001b[39m\u001b[38;5;241m.\u001b[39m_getitem_multilevel(key)\n\u001b[1;32m-> 3761\u001b[0m indexer \u001b[38;5;241m=\u001b[39m \u001b[38;5;28mself\u001b[39m\u001b[38;5;241m.\u001b[39mcolumns\u001b[38;5;241m.\u001b[39mget_loc(key)\n\u001b[0;32m   3762\u001b[0m \u001b[38;5;28;01mif\u001b[39;00m is_integer(indexer):\n\u001b[0;32m   3763\u001b[0m     indexer \u001b[38;5;241m=\u001b[39m [indexer]\n",
      "File \u001b[1;32m~\\anaconda3\\Lib\\site-packages\\pandas\\core\\indexes\\base.py:3655\u001b[0m, in \u001b[0;36mIndex.get_loc\u001b[1;34m(self, key)\u001b[0m\n\u001b[0;32m   3653\u001b[0m     \u001b[38;5;28;01mreturn\u001b[39;00m \u001b[38;5;28mself\u001b[39m\u001b[38;5;241m.\u001b[39m_engine\u001b[38;5;241m.\u001b[39mget_loc(casted_key)\n\u001b[0;32m   3654\u001b[0m \u001b[38;5;28;01mexcept\u001b[39;00m \u001b[38;5;167;01mKeyError\u001b[39;00m \u001b[38;5;28;01mas\u001b[39;00m err:\n\u001b[1;32m-> 3655\u001b[0m     \u001b[38;5;28;01mraise\u001b[39;00m \u001b[38;5;167;01mKeyError\u001b[39;00m(key) \u001b[38;5;28;01mfrom\u001b[39;00m \u001b[38;5;21;01merr\u001b[39;00m\n\u001b[0;32m   3656\u001b[0m \u001b[38;5;28;01mexcept\u001b[39;00m \u001b[38;5;167;01mTypeError\u001b[39;00m:\n\u001b[0;32m   3657\u001b[0m     \u001b[38;5;66;03m# If we have a listlike key, _check_indexing_error will raise\u001b[39;00m\n\u001b[0;32m   3658\u001b[0m     \u001b[38;5;66;03m#  InvalidIndexError. Otherwise we fall through and re-raise\u001b[39;00m\n\u001b[0;32m   3659\u001b[0m     \u001b[38;5;66;03m#  the TypeError.\u001b[39;00m\n\u001b[0;32m   3660\u001b[0m     \u001b[38;5;28mself\u001b[39m\u001b[38;5;241m.\u001b[39m_check_indexing_error(key)\n",
      "\u001b[1;31mKeyError\u001b[0m: 'predicted_class'"
     ]
    }
   ],
   "source": [
    "tp = tn = fp = fn = 0\n",
    "for actual, predicted in zip(list(pred_df['actual_class']), list(pred_df['predicted_class'])):\n",
    "    if actual == 'normal' and predicted == 'normal':\n",
    "        tp = tp + 1\n",
    "    elif actual == 'cataract' and predicted == 'cataract':\n",
    "        tn = tn + 1\n",
    "    elif actual == 'normal' and predicted == 'cataract':\n",
    "        fp = fp + 1\n",
    "    elif actual == 'cataract' and predicted == 'normal':\n",
    "        fn = fn + 1"
   ]
  },
  {
   "cell_type": "markdown",
   "metadata": {},
   "source": [
    "True Positive (TP): Gerçek değeri pozitif olan ve modelin de doğru bir şekilde pozitif olarak tahmin ettiği örnekler.\n",
    "\n",
    "True Negative (TN): Gerçek değeri negatif olan ve modelin de doğru bir şekilde negatif olarak tahmin ettiği örnekler.\n",
    "\n",
    "False Positive (FP): Gerçek değeri negatif olan ancak modelin pozitif olarak yanlış bir şekilde tahmin ettiği örnekler (Type I error).\n",
    "\n",
    "False Negative (FN): Gerçek değeri pozitif olan ancak modelin negatif olarak yanlış bir şekilde tahmin ettiği örnekler (Type II error)."
   ]
  },
  {
   "cell_type": "code",
   "execution_count": null,
   "metadata": {},
   "outputs": [],
   "source": [
    "print(tp)"
   ]
  },
  {
   "cell_type": "code",
   "execution_count": null,
   "metadata": {},
   "outputs": [],
   "source": [
    "print(tn)"
   ]
  },
  {
   "cell_type": "code",
   "execution_count": null,
   "metadata": {},
   "outputs": [],
   "source": [
    "print(fp)"
   ]
  },
  {
   "cell_type": "code",
   "execution_count": null,
   "metadata": {},
   "outputs": [],
   "source": [
    "print(fn)"
   ]
  },
  {
   "cell_type": "code",
   "execution_count": null,
   "metadata": {},
   "outputs": [],
   "source": [
    "accuracy = (tp + tn) / (tp + tn + fp + fn)\n",
    "precision = tp / (tp + fp)\n",
    "recall = tp / (tp + fn)\n",
    "f1 = 2 * precision * recall / (precision + recall)"
   ]
  },
  {
   "cell_type": "code",
   "execution_count": null,
   "metadata": {},
   "outputs": [],
   "source": [
    "evaluation_summary = pd.DataFrame()\n",
    "evaluation_summary[\"accuracy\"] = [accuracy]\n",
    "evaluation_summary[\"precision\"] = [precision]\n",
    "evaluation_summary[\"recall\"] = [recall]\n",
    "evaluation_summary[\"f1\"] = [f1]"
   ]
  },
  {
   "cell_type": "code",
   "execution_count": null,
   "metadata": {},
   "outputs": [],
   "source": [
    "evaluation_summary"
   ]
  },
  {
   "cell_type": "code",
   "execution_count": null,
   "metadata": {},
   "outputs": [],
   "source": [
    "# Grafik oluşturma\n",
    "ax = evaluation_summary.plot(kind='bar', figsize=(8, 6))\n",
    "\n",
    "# Barların üzerine değerleri ekleme\n",
    "for p in ax.patches:\n",
    "    ax.annotate(str(round(p.get_height(), 2)), (p.get_x() * 1.005, p.get_height() * 1.005))\n",
    "\n",
    "plt.title('Evaluation Metrics')\n",
    "plt.xlabel('Metrics')\n",
    "plt.ylabel('Values')\n",
    "plt.xticks(rotation=0)\n",
    "plt.legend(loc='upper right')\n",
    "plt.show()\n"
   ]
  },
  {
   "cell_type": "code",
   "execution_count": 40,
   "metadata": {},
   "outputs": [
    {
     "data": {
      "image/png": "[encoded data removed]",
      "text/plain": [
       "<Figure size 800x600 with 1 Axes>"
      ]
     },
     "metadata": {},
     "output_type": "display_data"
    }
   ],
   "source": [
    "import matplotlib.pyplot as plt\n",
    "\n",
    "# Değerlerin ve etiketlerin listesi\n",
    "values = [tp, tn, fp, fn]\n",
    "labels = ['TP', 'TN', 'FP', 'FN']\n",
    "\n",
    "# Çubuk grafik oluşturma\n",
    "plt.figure(figsize=(8, 6))\n",
    "plt.bar(labels, values, color=['green', 'blue', 'red', 'orange'])\n",
    "plt.xlabel('Değerler')\n",
    "plt.ylabel('Sayı')\n",
    "plt.title('Performans Ölçütleri')\n",
    "\n",
    "# Değerlerin çubukların üzerine yazılması\n",
    "for i, value in enumerate(values):\n",
    "    plt.text(i, value + 0.1, str(value), ha='center')\n",
    "\n",
    "plt.show()\n"
   ]
  },
  {
   "cell_type": "code",
   "execution_count": 41,
   "metadata": {},
   "outputs": [
    {
     "data": {
      "image/png": "[encoded data removed]",
      "text/plain": [
       "<Figure size 800x600 with 1 Axes>"
      ]
     },
     "metadata": {},
     "output_type": "display_data"
    }
   ],
   "source": [
    "import pandas as pd\n",
    "\n",
    "# Verilerinizi DataFrame olarak düzenleyelim\n",
    "confusion_data = {\n",
    "    'Predicted': ['Normal', 'Cataract'],\n",
    "    'Normal': [tn, fn],\n",
    "    'Cataract': [fp, tp]\n",
    "}\n",
    "\n",
    "# DataFrame oluşturma\n",
    "confusion_df = pd.DataFrame(confusion_data)\n",
    "confusion_df = confusion_df.set_index('Predicted')\n",
    "\n",
    "# Görselleştirme (Çubuk grafik)\n",
    "confusion_df.plot(kind='bar', stacked=True, figsize=(8, 6))\n",
    "plt.title('Confusion Matrix')\n",
    "plt.xlabel('Predicted')\n",
    "plt.ylabel('Count')\n",
    "plt.xticks(rotation=0)\n",
    "plt.legend(title='Actual')\n",
    "plt.show()\n"
   ]
  },
  {
   "cell_type": "code",
   "execution_count": 42,
   "metadata": {},
   "outputs": [
    {
     "data": {
      "image/png": "[encoded data removed]",
      "text/plain": [
       "<Figure size 600x400 with 2 Axes>"
      ]
     },
     "metadata": {},
     "output_type": "display_data"
    }
   ],
   "source": [
    "import numpy as np\n",
    "import seaborn as sns\n",
    "import matplotlib.pyplot as plt\n",
    "\n",
    "# Veriler\n",
    "conf_matrix = np.array([[tn, fp], [fn, tp]])\n",
    "\n",
    "# Görselleştirme\n",
    "plt.figure(figsize=(6, 4))\n",
    "sns.heatmap(conf_matrix, annot=True, fmt='d', cmap='Blues', \n",
    "            xticklabels=['Normal', 'Cataract'], \n",
    "            yticklabels=['Normal', 'Cataract'])\n",
    "plt.title('Confusion Matrix')\n",
    "plt.xlabel('Predicted')\n",
    "plt.ylabel('True')\n",
    "plt.show()\n"
   ]
  },
  {
   "cell_type": "code",
   "execution_count": null,
   "metadata": {},
   "outputs": [],
   "source": []
  }
 ],
 "metadata": {
  "kernelspec": {
   "display_name": "Python 3 (ipykernel)",
   "language": "python",
   "name": "python3"
  },
  "language_info": {
   "codemirror_mode": {
    "name": "ipython",
    "version": 3
   },
   "file_extension": ".py",
   "mimetype": "text/x-python",
   "name": "python",
   "nbconvert_exporter": "python",
   "pygments_lexer": "ipython3",
   "version": "3.11.5"
  }
 },
 "nbformat": 4,
 "nbformat_minor": 4
}
